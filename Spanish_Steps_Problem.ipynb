{
 "cells": [
  {
   "cell_type": "code",
   "execution_count": 7,
   "metadata": {
    "collapsed": false
   },
   "outputs": [
    {
     "name": "stdout",
     "output_type": "stream",
     "text": [
      "tile with digit 1 = 70\n",
      "tile with digit 2 = 34\n",
      "tile with digit 3 = 30\n",
      "tile with digit 4 = 24\n",
      "tile with digit 5 = 24\n",
      "tile with digit 6 = 23\n",
      "tile with digit 7 = 23\n",
      "tile with digit 8 = 23\n",
      "tile with digit 9 = 23\n",
      "tile with digit 0 = 23\n",
      "Allowing for a ten percent breakage, the cost of tiles is: 4410 \n",
      "The cost of affixing tiles: 2780 \n",
      "Total cost is: 7190.667\n"
     ]
    }
   ],
   "source": [
    "steps = [x for x in range(1,136)] #Create a list\n",
    "steps1 = str(steps).replace(',','').replace(' ','').replace('[','').replace(']','') #Convert it to a string to be able                                 \n",
    "tiles = {}             #to remove commas, square brackets and spaces, allowing the iteration to catch only the numbers\n",
    "for i in steps1: #The method .get() will return the value 0 at the corresponding ith key! so I'll add back 1 and it's done.\n",
    "    tiles[i] = tiles.get(i,0) + 1 \n",
    "for key in tiles:\n",
    "    print('tile with digit',key,'=',tiles[key])\n",
    "tilesCost = 0\n",
    "fixingCost = 0\n",
    "for key in tiles:\n",
    "    tilesCost += (tiles[key]+tiles[key]*0.1)*13.50\n",
    "    fixingCost += (tiles[key]+tiles[key]*0.1)*8.51\n",
    "print('Allowing for a ten percent breakage, the cost of tiles is:', round(tilesCost),'\\nThe cost of affixing tiles:',round(fixingCost),'\\nTotal cost is:',(tilesCost+fixingCost))"
   ]
  },
  {
   "cell_type": "code",
   "execution_count": null,
   "metadata": {
    "collapsed": true
   },
   "outputs": [],
   "source": []
  }
 ],
 "metadata": {
  "kernelspec": {
   "display_name": "Python 3",
   "language": "python",
   "name": "python3"
  },
  "language_info": {
   "codemirror_mode": {
    "name": "ipython",
    "version": 3
   },
   "file_extension": ".py",
   "mimetype": "text/x-python",
   "name": "python",
   "nbconvert_exporter": "python",
   "pygments_lexer": "ipython3",
   "version": "3.6.0"
  }
 },
 "nbformat": 4,
 "nbformat_minor": 2
}
