{
 "cells": [
  {
   "cell_type": "code",
   "execution_count": 1,
   "metadata": {
    "collapsed": false
   },
   "outputs": [
    {
     "data": {
      "text/plain": [
       "0.26519973471637326"
      ]
     },
     "execution_count": 1,
     "metadata": {},
     "output_type": "execute_result"
    }
   ],
   "source": [
    "import random\n",
    "random.random()"
   ]
  },
  {
   "cell_type": "code",
   "execution_count": 14,
   "metadata": {
    "collapsed": false
   },
   "outputs": [
    {
     "ename": "IndentationError",
     "evalue": "expected an indented block (<ipython-input-14-eb9ef6363c5a>, line 5)",
     "output_type": "error",
     "traceback": [
      "\u001b[1;36m  File \u001b[1;32m\"<ipython-input-14-eb9ef6363c5a>\"\u001b[1;36m, line \u001b[1;32m5\u001b[0m\n\u001b[1;33m    num_red =+ 1\u001b[0m\n\u001b[1;37m          ^\u001b[0m\n\u001b[1;31mIndentationError\u001b[0m\u001b[1;31m:\u001b[0m expected an indented block\n"
     ]
    }
   ],
   "source": [
    "num_red = 0\n",
    "num_blue = 0\n",
    "for i in range(10000):\n",
    "    if random.random() < 8/12:\n",
    "    num_red =+ 1\n",
    "    else:\n",
    "    num_blue =+ 1\n",
    "print(\"num_red\")\n",
    "print(\"num_blue\")\n"
   ]
  },
  {
   "cell_type": "code",
   "execution_count": 52,
   "metadata": {
    "collapsed": false
   },
   "outputs": [
    {
     "name": "stdout",
     "output_type": "stream",
     "text": [
      "picking a blue murble with a probability:  0.33486\n",
      "picking a blue murble followed by another blue with a probability:  0.09093\n"
     ]
    }
   ],
   "source": [
    "iterations = 100000\n",
    "num_blu = 4\n",
    "num_murbles = 12\n",
    "blue_count = 0\n",
    "secondblue_count = 0\n",
    "for i in range(iterations):\n",
    "    if random.random() < (num_blu)/(num_murbles):\n",
    "        blue_count += 1\n",
    "        if random.random() < (num_blu -1)/(num_murbles -1):\n",
    "            secondblue_count += 1\n",
    "print(\"picking a blue murble with a probability: \",blue_count/iterations)\n",
    "print(\"picking a blue murble followed by another blue with a probability: \",secondblue_count/iterations)"
   ]
  },
  {
   "cell_type": "code",
   "execution_count": 54,
   "metadata": {
    "collapsed": false
   },
   "outputs": [
    {
     "name": "stdout",
     "output_type": "stream",
     "text": [
      "picking a blue murble with a probability:  0.33423\n",
      "picking a blue murble followed by a red one with a probability:  0.24203\n",
      "picking a blue murble followed by a red one and then another bluewith a probability:  0.07235\n"
     ]
    }
   ],
   "source": [
    "iterations = 100000\n",
    "num_blu = 4\n",
    "num_red = 8\n",
    "red_count = 0\n",
    "secondred_count = 0\n",
    "num_murbles = 12\n",
    "blue_count = 0\n",
    "blue_and_red_count = 0\n",
    "blue_and_red_and_blue_count = 0\n",
    "for i in range(iterations):\n",
    "    if random.random() < (num_blu)/(num_murbles):\n",
    "        blue_count += 1\n",
    "        if random.random() < (num_red)/(num_murbles -1):\n",
    "            blue_and_red_count += 1\n",
    "            if random.random() < (num_blu - 1)/(num_murbles -2):\n",
    "                blue_and_red_and_blue_count += 1\n",
    "print(\"picking a blue murble with a probability: \",blue_count/iterations)\n",
    "print(\"picking a blue murble followed by a red one with a probability: \",blue_and_red_count/iterations)\n",
    "print(\"picking a blue murble followed by a red one and then another bluewith a probability: \",blue_and_red_and_blue_count/iterations)"
   ]
  },
  {
   "cell_type": "code",
   "execution_count": null,
   "metadata": {
    "collapsed": true
   },
   "outputs": [],
   "source": []
  }
 ],
 "metadata": {
  "kernelspec": {
   "display_name": "Python 3",
   "language": "python",
   "name": "python3"
  },
  "language_info": {
   "codemirror_mode": {
    "name": "ipython",
    "version": 3
   },
   "file_extension": ".py",
   "mimetype": "text/x-python",
   "name": "python",
   "nbconvert_exporter": "python",
   "pygments_lexer": "ipython3",
   "version": "3.5.1"
  }
 },
 "nbformat": 4,
 "nbformat_minor": 0
}
