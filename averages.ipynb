{
 "cells": [
  {
   "cell_type": "code",
   "execution_count": 1,
   "metadata": {
    "collapsed": false
   },
   "outputs": [
    {
     "name": "stdout",
     "output_type": "stream",
     "text": [
      "total 22\n",
      "drwxr-xr-x+ 1 t00197715 Domain Users   0 Feb  1 15:22 .\n",
      "drwxr-xr-x+ 1 t00197715 Domain Users   0 Feb  1 15:22 ..\n",
      "drwxr-xr-x+ 1 t00197715 Domain Users   0 Feb  1 15:18 .git\n",
      "drwxr-xr-x+ 1 t00197715 Domain Users   0 Feb  1 15:22 .ipynb_checkpoints\n",
      "-rw-r--r--  1 t00197715 Domain Users 904 Feb  1 15:10 mp1_history_1_feb\n",
      "-rw-r--r--  1 t00197715 Domain Users 871 Feb  1 15:08 myhist\n",
      "-rw-r--r--  1 t00197715 Domain Users  20 Feb  1 14:20 names.txt\n",
      "-rwxr-xr-x  1 t00197715 Domain Users  72 Feb  1 15:22 Untitled.ipynb\n"
     ]
    }
   ],
   "source": [
    "%%bash\n",
    "ls -al"
   ]
  },
  {
   "cell_type": "code",
   "execution_count": 2,
   "metadata": {
    "collapsed": true
   },
   "outputs": [],
   "source": [
    "def average(numbers):\n",
    "    return sum(numbers)/len(numbers)"
   ]
  },
  {
   "cell_type": "raw",
   "metadata": {},
   "source": []
  },
  {
   "cell_type": "raw",
   "metadata": {},
   "source": []
  },
  {
   "cell_type": "code",
   "execution_count": 3,
   "metadata": {
    "collapsed": false
   },
   "outputs": [
    {
     "data": {
      "text/plain": [
       "5.5"
      ]
     },
     "execution_count": 3,
     "metadata": {},
     "output_type": "execute_result"
    }
   ],
   "source": [
    "average([1,2,3,4,5,6,7,8,9,10])"
   ]
  },
  {
   "cell_type": "code",
   "execution_count": null,
   "metadata": {
    "collapsed": true
   },
   "outputs": [],
   "source": []
  }
 ],
 "metadata": {
  "kernelspec": {
   "display_name": "Python 3",
   "language": "python",
   "name": "python3"
  },
  "language_info": {
   "codemirror_mode": {
    "name": "ipython",
    "version": 3
   },
   "file_extension": ".py",
   "mimetype": "text/x-python",
   "name": "python",
   "nbconvert_exporter": "python",
   "pygments_lexer": "ipython3",
   "version": "3.5.1"
  }
 },
 "nbformat": 4,
 "nbformat_minor": 0
}
